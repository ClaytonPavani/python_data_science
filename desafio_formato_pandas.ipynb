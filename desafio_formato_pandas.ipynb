{
  "nbformat": 4,
  "nbformat_minor": 0,
  "metadata": {
    "colab": {
      "provenance": [],
      "authorship_tag": "ABX9TyNdevfm7JbWRMS23oeKUo8h",
      "include_colab_link": true
    },
    "kernelspec": {
      "name": "python3",
      "display_name": "Python 3"
    },
    "language_info": {
      "name": "python"
    }
  },
  "cells": [
    {
      "cell_type": "markdown",
      "metadata": {
        "id": "view-in-github",
        "colab_type": "text"
      },
      "source": [
        "<a href=\"https://colab.research.google.com/github/ClaytonPavani/python_data_science/blob/main/desafio_formato_pandas.ipynb\" target=\"_parent\"><img src=\"https://colab.research.google.com/assets/colab-badge.svg\" alt=\"Open In Colab\"/></a>"
      ]
    },
    {
      "cell_type": "markdown",
      "source": [
        "## 1 - DESAFIO PRÁTICO\n",
        "\n",
        "Seu desafio aqui será fazer a leitura desse arquivo utilizando a **função read_csv** da biblioteca Pandas.\n",
        "\n",
        "Alguns parâmetros devem ser adicionados para que a leitura seja feita corretamente. Então, seguem algumas dicas:\n",
        "\n",
        "- Verifique se o arquivo CSV está separado por vírgula ou ponto e vírgula.\n",
        "\n",
        "- A codificação do arquivo é ISO-8859-1.\n",
        "\n",
        "- As três primeiras linhas linhas do arquivo podem ser desconsideradas, pois o cabeçalho só começa na quarta linha.\n",
        "\n",
        "- As 9 últimas linhas também podem ser desconsideradas, pois são apenas informações sobre onde os dados foram obtidos.\n",
        "\n",
        "- Para deletar as últimas linhas é necessário adicionar o parâmetro engine='python'."
      ],
      "metadata": {
        "id": "_7uSzA843qvb"
      }
    },
    {
      "cell_type": "code",
      "execution_count": 4,
      "metadata": {
        "id": "fhW6FfS13j66"
      },
      "outputs": [],
      "source": [
        "import pandas as pd"
      ]
    },
    {
      "cell_type": "code",
      "source": [
        "# Endereço da database: Vamos armazenar em uma variável:\n",
        "\n",
        "url = 'https://raw.githubusercontent.com/alura-cursos/Pandas/main/dados_sus.csv'"
      ],
      "metadata": {
        "id": "WzRFRcML3_h4"
      },
      "execution_count": 5,
      "outputs": []
    },
    {
      "cell_type": "code",
      "source": [
        "dados = pd.read_csv(url, encoding='ISO-8859-1', sep=';', skiprows=3, skipfooter = 9, engine='python')"
      ],
      "metadata": {
        "id": "vQfY16iD4DcQ"
      },
      "execution_count": 6,
      "outputs": []
    },
    {
      "cell_type": "code",
      "source": [
        "dados"
      ],
      "metadata": {
        "id": "9ePNRqOn4WmH"
      },
      "execution_count": null,
      "outputs": []
    },
    {
      "cell_type": "markdown",
      "source": [
        "# Entendendo parâmetros:\n",
        "\n",
        "**encoding='ISO-8859-1':** tipo de codificação dos caracteres do arquivo. Neste caso, é a codificação ISO-8859-1 que é comum em arquivos de língua portuguesa.\n",
        "\n",
        "**sep=';':** separador dos valores no arquivo. Neste caso, é o ponto-e-vírgula (;).\n",
        "\n",
        "**skiprows=3:** indica que as três primeiras linhas do arquivo devem ser ignoradas, pois não contêm dados relevantes.\n",
        "\n",
        "**skipfooter = 9**: indica que as nove últimas linhas do arquivo devem ser ignoradas, pois não contêm dados relevantes.\n",
        "\n",
        "engine='python': o motor usado para ler o arquivo é o Python. Isso é necessário quando se usa o parâmetro skipfooter, pois o motor padrão não suporta essa opção.\n"
      ],
      "metadata": {
        "id": "U-9-y5bf4o5h"
      }
    },
    {
      "cell_type": "code",
      "source": [],
      "metadata": {
        "id": "J31N6wUR4b_g"
      },
      "execution_count": null,
      "outputs": []
    }
  ]
}