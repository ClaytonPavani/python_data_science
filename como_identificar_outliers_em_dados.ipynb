{
  "nbformat": 4,
  "nbformat_minor": 0,
  "metadata": {
    "colab": {
      "provenance": [],
      "authorship_tag": "ABX9TyOWuIyDuC2QVlv0+JFOVF2M",
      "include_colab_link": true
    },
    "kernelspec": {
      "name": "python3",
      "display_name": "Python 3"
    },
    "language_info": {
      "name": "python"
    }
  },
  "cells": [
    {
      "cell_type": "markdown",
      "metadata": {
        "id": "view-in-github",
        "colab_type": "text"
      },
      "source": [
        "<a href=\"https://colab.research.google.com/github/ClaytonPavani/python_data_science/blob/main/como_identificar_outliers_em_dados.ipynb\" target=\"_parent\"><img src=\"https://colab.research.google.com/assets/colab-badge.svg\" alt=\"Open In Colab\"/></a>"
      ]
    },
    {
      "cell_type": "code",
      "execution_count": 1,
      "metadata": {
        "colab": {
          "base_uri": "https://localhost:8080/"
        },
        "id": "JtqjYAbQx0iN",
        "outputId": "1573dd0d-999b-4595-f3d7-715ae5491225"
      },
      "outputs": [
        {
          "output_type": "stream",
          "name": "stdout",
          "text": [
            "Outliers encontrados: [350]\n"
          ]
        }
      ],
      "source": [
        "import numpy as np\n",
        "\n",
        "# Dados de exemplo\n",
        "data = np.array([10, 20, 30, 40, 150, 50, 60, 70, 80, 90, 100, 350])\n",
        "\n",
        "# Cálculo do z-score\n",
        "z_scores = (data - np.mean(data)) / np.std(data)\n",
        "\n",
        "# Limite para considerar um dado como outlier\n",
        "limite = 3\n",
        "\n",
        "# Identificação dos outliers\n",
        "outliers = data[np.abs(z_scores) > limite]\n",
        "\n",
        "print(\"Outliers encontrados:\", outliers)"
      ]
    },
    {
      "cell_type": "code",
      "source": [
        "import numpy as np\n",
        "\n",
        "# Criar um array com os dados\n",
        "dados = np.array([0, 10, 12, 13, 15, 16, 18, 20, 22, 25, 30, 35, 40, 50, 350])\n",
        "\n",
        "# Calcular a média e o desvio padrão do conjunto de dados\n",
        "media = np.mean(dados)\n",
        "desvio_padrao = np.std(dados)\n",
        "\n",
        "# Definir o limite superior e inferior para identificar os outliers\n",
        "limite_superior = media + (3 * desvio_padrao)\n",
        "limite_inferior = media - (3 * desvio_padrao)\n",
        "\n",
        "# Identificar os outliers no conjunto de dados\n",
        "outliers = dados[(dados > limite_superior) | (dados < limite_inferior)]\n",
        "\n",
        "print(\"Outliers:\", outliers)"
      ],
      "metadata": {
        "colab": {
          "base_uri": "https://localhost:8080/"
        },
        "id": "6shWtCvnx1ib",
        "outputId": "dd753375-ca59-4bdd-87e9-9f6dc046cf36"
      },
      "execution_count": 2,
      "outputs": [
        {
          "output_type": "stream",
          "name": "stdout",
          "text": [
            "Outliers: [350]\n"
          ]
        }
      ]
    },
    {
      "cell_type": "code",
      "source": [
        "import matplotlib.pyplot as plt\n",
        "import numpy as np\n",
        "\n",
        "# Dados de exemplo\n",
        "data = np.array([10, 20, 30, 40, 50, 60, 70, 80, 90, 100])\n",
        "\n",
        "# Criação do boxplot\n",
        "fig, ax = plt.subplots()\n",
        "ax.boxplot(data)\n",
        "\n",
        "# Identificação dos outliers\n",
        "outliers = data[(data < np.percentile(data, 25) - (1.5 * (np.percentile(data, 75) - np.percentile(data, 25)))) |\n",
        "                (data > np.percentile(data, 75) + (1.5 * (np.percentile(data, 75) - np.percentile(data, 25))))]\n",
        "\n",
        "print(\"Outliers encontrados:\", outliers)"
      ],
      "metadata": {
        "colab": {
          "base_uri": "https://localhost:8080/",
          "height": 447
        },
        "id": "tboKM9aIyzUr",
        "outputId": "dfa4daea-fe38-4616-bee4-77f20882c037"
      },
      "execution_count": 3,
      "outputs": [
        {
          "output_type": "stream",
          "name": "stdout",
          "text": [
            "Outliers encontrados: []\n"
          ]
        },
        {
          "output_type": "display_data",
          "data": {
            "text/plain": [
              "<Figure size 640x480 with 1 Axes>"
            ],
            "image/png": "[encoded data removed]"
          },
          "metadata": {}
        }
      ]
    },
    {
      "cell_type": "code",
      "source": [],
      "metadata": {
        "id": "zQNqcIYdzU7r"
      },
      "execution_count": null,
      "outputs": []
    }
  ]
}